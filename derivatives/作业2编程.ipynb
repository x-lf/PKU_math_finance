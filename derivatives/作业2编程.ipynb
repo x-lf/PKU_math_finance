{
 "cells": [
  {
   "cell_type": "code",
   "execution_count": 3,
   "id": "d7131a79",
   "metadata": {},
   "outputs": [
    {
     "name": "stdout",
     "output_type": "stream",
     "text": [
      "欧式看涨期权价格: 7.110439948142851\n"
     ]
    }
   ],
   "source": [
    "import numpy as np\n",
    "from math import comb\n",
    "import matplotlib.pyplot as plt\n",
    "\n",
    "def binomial_tree_option_pricing(S0, K, T, r, u, d, p, N, option_type='call'):\n",
    "    \"\"\"\n",
    "    二叉树模型用于欧式期权定价\n",
    "    \n",
    "    参数:\n",
    "    - S0: 标的资产当前价格\n",
    "    - K: 行权价\n",
    "    - T: 到期时间（年）\n",
    "    - r: 无风险利率\n",
    "    - u: 上涨因子\n",
    "    - d: 下跌因子\n",
    "    - p: 上涨概率\n",
    "    - N: 时间步数\n",
    "    - option_type: 'call' 或 'put'\n",
    "    \n",
    "    返回:\n",
    "    - 期权在t=0时刻的价格\n",
    "    \"\"\"\n",
    "    dt = T / N\n",
    "    discount = np.exp(-r * dt)\n",
    "    \n",
    "    # 生成到期日的资产价格\n",
    "    asset_prices = np.zeros(N + 1)\n",
    "    for j in range(N + 1):\n",
    "        asset_prices[j] = S0 * (u ** j) * (d ** (N - j))\n",
    "    \n",
    "    # 初始化到期日的期权价值\n",
    "    if option_type == 'call':\n",
    "        option_values = np.maximum(asset_prices - K, 0)\n",
    "    elif option_type == 'put':\n",
    "        option_values = np.maximum(K - asset_prices, 0)\n",
    "    else:\n",
    "        raise ValueError(\"期权类型必须是'call'或'put'\")\n",
    "    \n",
    "    # 向后递推\n",
    "    for t in range(N - 1, -1, -1):\n",
    "        for j in range(t + 1):\n",
    "            option_values[j] = discount * (p * option_values[j + 1] + (1 - p) * option_values[j])\n",
    "    \n",
    "    return option_values[0]\n",
    "\n",
    "# 示例使用\n",
    "S0 = 100  # 当前价格\n",
    "K = 100   # 行权价\n",
    "T = 1     # 到期时间\n",
    "r = 0.05  # 无风险利率\n",
    "u = 1.1   # 上涨因子\n",
    "d = 0.9   # 下跌因子\n",
    "p = 0.5   # 上涨概率\n",
    "N = 3     # 步数\n",
    "\n",
    "call_price = binomial_tree_option_pricing(S0, K, T, r, u, d, p, N, 'call')\n",
    "print(f\"欧式看涨期权价格: {call_price}\")\n",
    "\n"
   ]
  },
  {
   "cell_type": "code",
   "execution_count": null,
   "id": "4ac01ff7",
   "metadata": {},
   "outputs": [],
   "source": []
  }
 ],
 "metadata": {
  "kernelspec": {
   "display_name": "base",
   "language": "python",
   "name": "python3"
  },
  "language_info": {
   "codemirror_mode": {
    "name": "ipython",
    "version": 3
   },
   "file_extension": ".py",
   "mimetype": "text/x-python",
   "name": "python",
   "nbconvert_exporter": "python",
   "pygments_lexer": "ipython3",
   "version": "3.9.13"
  }
 },
 "nbformat": 4,
 "nbformat_minor": 5
}
