{
 "cells": [
  {
   "cell_type": "code",
   "execution_count": 12,
   "id": "0fb7ff67-fe5d-46af-b3d1-d451496110be",
   "metadata": {},
   "outputs": [
    {
     "name": "stderr",
     "output_type": "stream",
     "text": [
      "/var/folders/qb/_zmdxt6n29n5h6hxbt7v0v0c0000gn/T/ipykernel_91578/914695685.py:4: DeprecationWarning: Set proxy via new config function: yf.set_config(proxy=proxy)\n",
      "  data = yf.download(ticker, start='2023-12-01', end='2023-12-31', interval='1d',threads = False,proxy=\"http://127.0.0.1:7890\")\n",
      "/var/folders/qb/_zmdxt6n29n5h6hxbt7v0v0c0000gn/T/ipykernel_91578/914695685.py:4: FutureWarning: YF.download() has changed argument auto_adjust default to True\n",
      "  data = yf.download(ticker, start='2023-12-01', end='2023-12-31', interval='1d',threads = False,proxy=\"http://127.0.0.1:7890\")\n",
      "[*********************100%***********************]  1 of 1 completed\n"
     ]
    }
   ],
   "source": [
    "# 下载数据\n",
    "import yfinance as yf\n",
    "ticker = '600519.SS'\n",
    "data = yf.download(ticker, start='2023-12-01', end='2023-12-31', interval='1d',threads = False,proxy=\"http://127.0.0.1:7890\")"
   ]
  },
  {
   "cell_type": "code",
   "execution_count": 2,
   "id": "a54f565e-7e1b-45b0-836e-34840aedb402",
   "metadata": {},
   "outputs": [
    {
     "name": "stderr",
     "output_type": "stream",
     "text": [
      "/var/folders/qb/_zmdxt6n29n5h6hxbt7v0v0c0000gn/T/ipykernel_91578/3790971729.py:5: FutureWarning: YF.download() has changed argument auto_adjust default to True\n",
      "  data = yf.download(ticker, start='2023-06-01', end='2023-12-31', interval='1d', threads=False)\n",
      "Failed to get ticker '600519.SS' reason: Failed to perform, curl: (56) Connection closed abruptly. See https://curl.se/libcurl/c/libcurl-errors.html first for more details.\n",
      "[*********************100%***********************]  1 of 1 completed\n",
      "\n",
      "1 Failed download:\n",
      "['600519.SS']: ConnectionError('Failed to perform, curl: (7) Failed to connect to 127.0.0.1 port 7890 after 0 ms: Could not connect to server. See https://curl.se/libcurl/c/libcurl-errors.html first for more details.')\n"
     ]
    },
    {
     "name": "stdout",
     "output_type": "stream",
     "text": [
      "No data returned.\n"
     ]
    }
   ],
   "source": [
    "import yfinance as yf\n",
    "import time\n",
    "\n",
    "ticker = '600519.SS'\n",
    "data = yf.download(ticker, start='2023-06-01', end='2023-12-31', interval='1d', threads=False)\n",
    "if not data.empty:\n",
    "    print(data.head())\n",
    "else:\n",
    "    print(\"No data returned.\")\n",
    "time.sleep(2)  # 2-second delay if fetching more tickers"
   ]
  },
  {
   "cell_type": "code",
   "execution_count": null,
   "id": "2ed27bf4-2e25-474f-aa2d-a73d2480fdbd",
   "metadata": {},
   "outputs": [],
   "source": []
  },
  {
   "cell_type": "code",
   "execution_count": null,
   "id": "7af0042b-7529-4c62-b11f-8855f4715797",
   "metadata": {},
   "outputs": [],
   "source": []
  },
  {
   "cell_type": "code",
   "execution_count": null,
   "id": "24143495-f121-4cac-bc93-d278f2486ffa",
   "metadata": {},
   "outputs": [],
   "source": []
  }
 ],
 "metadata": {
  "kernelspec": {
   "display_name": "Python 3 (ipykernel)",
   "language": "python",
   "name": "python3"
  },
  "language_info": {
   "codemirror_mode": {
    "name": "ipython",
    "version": 3
   },
   "file_extension": ".py",
   "mimetype": "text/x-python",
   "name": "python",
   "nbconvert_exporter": "python",
   "pygments_lexer": "ipython3",
   "version": "3.13.5"
  }
 },
 "nbformat": 4,
 "nbformat_minor": 5
}
